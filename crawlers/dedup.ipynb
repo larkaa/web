{
 "cells": [
  {
   "cell_type": "code",
   "execution_count": 1,
   "metadata": {},
   "outputs": [],
   "source": [
    "import dedup"
   ]
  },
  {
   "cell_type": "code",
   "execution_count": 2,
   "metadata": {
    "collapsed": true
   },
   "outputs": [
    {
     "ename": "KeyboardInterrupt",
     "evalue": "",
     "output_type": "error",
     "traceback": [
      "\u001b[0;31m---------------------------------------------------------------------------\u001b[0m",
      "\u001b[0;31mKeyboardInterrupt\u001b[0m                         Traceback (most recent call last)",
      "\u001b[0;32m<ipython-input-2-895ece778462>\u001b[0m in \u001b[0;36m<module>\u001b[0;34m\u001b[0m\n\u001b[0;32m----> 1\u001b[0;31m \u001b[0mdedup\u001b[0m\u001b[0;34m.\u001b[0m\u001b[0mcheck_for_duplicates\u001b[0m\u001b[0;34m(\u001b[0m\u001b[0;34m'/media/larkaa/storage/Pictures/tumblr/menbulgesbuttssports/'\u001b[0m\u001b[0;34m)\u001b[0m\u001b[0;34m\u001b[0m\u001b[0;34m\u001b[0m\u001b[0m\n\u001b[0m",
      "\u001b[0;32m~/code/tumblr_crawl/dedup.py\u001b[0m in \u001b[0;36mcheck_for_duplicates\u001b[0;34m(paths, hash)\u001b[0m\n\u001b[1;32m     63\u001b[0m         \u001b[0;32mfor\u001b[0m \u001b[0mfilename\u001b[0m \u001b[0;32min\u001b[0m \u001b[0mfiles\u001b[0m\u001b[0;34m:\u001b[0m\u001b[0;34m\u001b[0m\u001b[0;34m\u001b[0m\u001b[0m\n\u001b[1;32m     64\u001b[0m             \u001b[0;32mtry\u001b[0m\u001b[0;34m:\u001b[0m\u001b[0;34m\u001b[0m\u001b[0;34m\u001b[0m\u001b[0m\n\u001b[0;32m---> 65\u001b[0;31m                 \u001b[0msmall_hash\u001b[0m \u001b[0;34m=\u001b[0m \u001b[0mget_hash\u001b[0m\u001b[0;34m(\u001b[0m\u001b[0mfilename\u001b[0m\u001b[0;34m,\u001b[0m \u001b[0mfirst_chunk_only\u001b[0m\u001b[0;34m=\u001b[0m\u001b[0;32mTrue\u001b[0m\u001b[0;34m)\u001b[0m\u001b[0;34m\u001b[0m\u001b[0;34m\u001b[0m\u001b[0m\n\u001b[0m\u001b[1;32m     66\u001b[0m             \u001b[0;32mexcept\u001b[0m \u001b[0;34m(\u001b[0m\u001b[0mOSError\u001b[0m\u001b[0;34m,\u001b[0m\u001b[0;34m)\u001b[0m\u001b[0;34m:\u001b[0m\u001b[0;34m\u001b[0m\u001b[0;34m\u001b[0m\u001b[0m\n\u001b[1;32m     67\u001b[0m                 \u001b[0;31m# the file access might've changed till the exec point got here\u001b[0m\u001b[0;34m\u001b[0m\u001b[0;34m\u001b[0m\u001b[0;34m\u001b[0m\u001b[0m\n",
      "\u001b[0;32m~/code/tumblr_crawl/dedup.py\u001b[0m in \u001b[0;36mget_hash\u001b[0;34m(filename, first_chunk_only, hash)\u001b[0m\n\u001b[1;32m     16\u001b[0m \u001b[0;32mdef\u001b[0m \u001b[0mget_hash\u001b[0m\u001b[0;34m(\u001b[0m\u001b[0mfilename\u001b[0m\u001b[0;34m,\u001b[0m \u001b[0mfirst_chunk_only\u001b[0m\u001b[0;34m=\u001b[0m\u001b[0;32mFalse\u001b[0m\u001b[0;34m,\u001b[0m \u001b[0mhash\u001b[0m\u001b[0;34m=\u001b[0m\u001b[0mhashlib\u001b[0m\u001b[0;34m.\u001b[0m\u001b[0msha1\u001b[0m\u001b[0;34m)\u001b[0m\u001b[0;34m:\u001b[0m\u001b[0;34m\u001b[0m\u001b[0;34m\u001b[0m\u001b[0m\n\u001b[1;32m     17\u001b[0m     \u001b[0mhashobj\u001b[0m \u001b[0;34m=\u001b[0m \u001b[0mhash\u001b[0m\u001b[0;34m(\u001b[0m\u001b[0;34m)\u001b[0m\u001b[0;34m\u001b[0m\u001b[0;34m\u001b[0m\u001b[0m\n\u001b[0;32m---> 18\u001b[0;31m     \u001b[0mfile_object\u001b[0m \u001b[0;34m=\u001b[0m \u001b[0mopen\u001b[0m\u001b[0;34m(\u001b[0m\u001b[0mfilename\u001b[0m\u001b[0;34m,\u001b[0m \u001b[0;34m'rb'\u001b[0m\u001b[0;34m)\u001b[0m\u001b[0;34m\u001b[0m\u001b[0;34m\u001b[0m\u001b[0m\n\u001b[0m\u001b[1;32m     19\u001b[0m \u001b[0;34m\u001b[0m\u001b[0m\n\u001b[1;32m     20\u001b[0m     \u001b[0;32mif\u001b[0m \u001b[0mfirst_chunk_only\u001b[0m\u001b[0;34m:\u001b[0m\u001b[0;34m\u001b[0m\u001b[0;34m\u001b[0m\u001b[0m\n",
      "\u001b[0;31mKeyboardInterrupt\u001b[0m: "
     ]
    }
   ],
   "source": [
    "#57823 files\n",
    "\n",
    "dedup.check_for_duplicates('/media/larkaa/storage/Pictures/tumblr/menbulgesbuttssports/')"
   ]
  },
  {
   "cell_type": "code",
   "execution_count": 2,
   "metadata": {},
   "outputs": [
    {
     "data": {
      "text/plain": [
       "14614"
      ]
     },
     "execution_count": 2,
     "metadata": {},
     "output_type": "execute_result"
    }
   ],
   "source": [
    "import os\n",
    "\n",
    "path = '/media/larkaa/storage/Pictures/tumblr/thegreatgaycrusader/tumblr_o8to2aUpK91r83d7lo1_500.jpg'\n",
    "os.path.getsize(path)\n",
    "\n",
    "# 14614 = 14.6 kb"
   ]
  },
  {
   "cell_type": "code",
   "execution_count": null,
   "metadata": {},
   "outputs": [],
   "source": []
  },
  {
   "cell_type": "code",
   "execution_count": null,
   "metadata": {},
   "outputs": [],
   "source": []
  },
  {
   "cell_type": "code",
   "execution_count": null,
   "metadata": {},
   "outputs": [],
   "source": []
  },
  {
   "cell_type": "code",
   "execution_count": null,
   "metadata": {},
   "outputs": [],
   "source": [
    "#49 215 files\n",
    "\n",
    "dedup.check_for_duplicates('/media/larkaa/storage/Pictures/tumblr/sharing-with-strangers/')"
   ]
  },
  {
   "cell_type": "code",
   "execution_count": null,
   "metadata": {},
   "outputs": [],
   "source": [
    "#22 183 files\n",
    "\n",
    "dedup.check_for_duplicates('/media/larkaa/storage/Pictures/tumblr/thegreatgaycrusader/')"
   ]
  },
  {
   "cell_type": "code",
   "execution_count": null,
   "metadata": {},
   "outputs": [],
   "source": [
    "#20 161 files\n",
    "\n",
    "\n",
    "dedup.check_for_duplicates('/media/larkaa/storage/Pictures/tumblr/boarddog73/')"
   ]
  },
  {
   "cell_type": "code",
   "execution_count": 42,
   "metadata": {},
   "outputs": [],
   "source": [
    "import os\n",
    "from collections import namedtuple\n",
    "import re\n",
    "\n",
    "#directory = '/home/larkaa/.fastai/data/tumblr/def_c'\n",
    "#os.chdir(directory)\n",
    "def dedup(directory):\n",
    "    biggest_files = {}\n",
    "    Entry = namedtuple('Entry',['size','file_name'])\n",
    "\n",
    "    for file_name in os.listdir(directory):\n",
    "        name,ext = os.path.splitext(file_name)\n",
    "        cashed_file = biggest_files.get(name)\n",
    "\n",
    "        this_file_size = int(name.split('_')[-1]) if name.split('_')[-1].isdigit() else 10000\n",
    "\n",
    "        #this_file_date = os.path.getmtime(file_name)\n",
    "\n",
    "\n",
    "        if cashed_file is None:\n",
    "            biggest_files[name] = Entry(this_file_size,file_name)\n",
    "        else:\n",
    "            if this_file_size > cashed_file.size: #replace with the newer one\n",
    "                biggest_files[name] = Entry(this_file_size,file_name)\n",
    "    \n",
    "    return biggest_files"
   ]
  },
  {
   "cell_type": "code",
   "execution_count": 44,
   "metadata": {},
   "outputs": [
    {
     "name": "stdout",
     "output_type": "stream",
     "text": [
      "46722 46684\n"
     ]
    }
   ],
   "source": [
    "\n",
    "directory  = '/home/larkaa/.fastai/data/tumblr/c_unsure/'\n",
    "files = dedup(directory)\n",
    "\n",
    "\n",
    "from pathlib import Path\n",
    "p = Path(directory)\n",
    "print(len(list(p.rglob('*'))), len(files))"
   ]
  },
  {
   "cell_type": "code",
   "execution_count": 14,
   "metadata": {},
   "outputs": [
    {
     "data": {
      "text/plain": [
       "['tumblr', 'l1bni0uDyZ1qbephdo1', '500', 'jpg']"
      ]
     },
     "execution_count": 14,
     "metadata": {},
     "output_type": "execute_result"
    }
   ],
   "source": [
    "test = 'tumblr_l1bni0uDyZ1qbephdo1_500.jpg'\n",
    "test2 = 'tumblr_l1bni0uDyZ1qbephdo1_1280.jpg'\n",
    "import re\n",
    "re.split(\"_|\\.\", test)"
   ]
  },
  {
   "cell_type": "code",
   "execution_count": 38,
   "metadata": {},
   "outputs": [
    {
     "data": {
      "text/plain": [
       "29899"
      ]
     },
     "execution_count": 38,
     "metadata": {},
     "output_type": "execute_result"
    }
   ],
   "source": [
    "#biggest_files\n",
    "len(biggest_files)"
   ]
  },
  {
   "cell_type": "code",
   "execution_count": 12,
   "metadata": {},
   "outputs": [
    {
     "data": {
      "text/plain": [
       "'tumblr_l1bni0uDyZ1qbephdo1_1280.jpg'"
      ]
     },
     "execution_count": 12,
     "metadata": {},
     "output_type": "execute_result"
    }
   ],
   "source": [
    "min(['tumblr_l1bni0uDyZ1qbephdo1_500.jpg','tumblr_l1bni0uDyZ1qbephdo1_1280.jpg'])"
   ]
  },
  {
   "cell_type": "code",
   "execution_count": 9,
   "metadata": {},
   "outputs": [
    {
     "ename": "SyntaxError",
     "evalue": "can't assign to function call (<ipython-input-9-6324643c69ca>, line 4)",
     "output_type": "error",
     "traceback": [
      "\u001b[0;36m  File \u001b[0;32m\"<ipython-input-9-6324643c69ca>\"\u001b[0;36m, line \u001b[0;32m4\u001b[0m\n\u001b[0;31m    temp2 = [x for max(x) in temp if ('1280' in x or '540' in x or '500' in x) and 'avatar' not in x]\u001b[0m\n\u001b[0m                  ^\u001b[0m\n\u001b[0;31mSyntaxError\u001b[0m\u001b[0;31m:\u001b[0m can't assign to function call\n"
     ]
    }
   ],
   "source": [
    "temp = ['tumblr_l1bni0uDyZ1qbephdo1_500.jpg','tumblr_l1bni0uDyZ1qbephdo1_1280.jpg',\n",
    "        'Bl1bni0uDyZ1qbephdo1_500.jpg','Bl1bni0uDyZ1qbephdo1_1280.jpg']\n",
    "\n",
    "temp2 = [x for x in temp if ('1280' in x or '540' in x or '500' in x) and 'avatar' not in x]\n",
    "\n",
    "temp2\n"
   ]
  },
  {
   "cell_type": "code",
   "execution_count": 7,
   "metadata": {},
   "outputs": [
    {
     "data": {
      "text/plain": [
       "'tumblr_l1bni0uDyZ1qbephdo1_500.jpg'"
      ]
     },
     "execution_count": 7,
     "metadata": {},
     "output_type": "execute_result"
    }
   ],
   "source": [
    "for x in non_flat:\n",
    "    if len(x) > 2\n",
    "        for y in x:\n",
    "            y\n",
    "            \n",
    ">> [ y for x in non_flat if len(x) > 2 for y in x ]\n",
    "[1, 2, 3, 4, 5, 6]"
   ]
  },
  {
   "cell_type": "code",
   "execution_count": null,
   "metadata": {},
   "outputs": [
    {
     "name": "stdout",
     "output_type": "stream",
     "text": [
      "grep -nr \"Awalpe75@\" /media/larkaa/storage/Torrents/BreachCompilation/data/\n",
      "^C\n",
      "grep -nr \"scruffy03@\" /media/larkaa/storage/Torrents/BreachCompilation/data/\n"
     ]
    }
   ],
   "source": [
    "usernames = [\"Awalpe75\", \"scruffy03\", \"thirty20\", \"windy\", \"dlishdd\",\n",
    "              \"Matmat\", \"hung69olly\", \"arco\", \"bernexx\", \"Tonio\", \n",
    "             \"dudehayd\", \"botom59\", \"nickine\", \"~elektra~\", \"lebstud22\",\n",
    "             \"Kunene\", \"Builtguy\", \"alala\", \"crbllm\", \"mikael83\", \n",
    "             \"Arcon\", \"hotness84\", \"Gingernick\", \"ASB48\", \"gin+tonic\", \n",
    "              \"TheGoodBoy\", \"calirunner\", \"jock_model\", \"NYCVersGuy\", \n",
    "             \"SwErik\", \"Frenchkik\", \"Rebel Yell\", \"paul660252\", \n",
    "             \"Pronoia\", \"BeDe\", \"terrick\", \"big_blue\", \"Blitz-Ace\", \n",
    "             \"madijames\", \"fldbgfun\", \"Bahquarius\",  \"Ricardo29\", \n",
    "             \"Exposure\", \"coolkid22\", \"blue_impul\",  \"crazyman83\", \n",
    "             \"Stargazer1\", \"Clivus\", \"fr_nudist\", \"arc30\", \"Mi-Dou\", \n",
    "             \"bon_matos\", \"minac\", \"Sentry5\",  \"Abnihilo\", \"uknik\", \n",
    "             \"ACurtis802\", \"Breakthru\", \"cuki\", \"Ollie09\", \"crewkid\", \n",
    "             \"nickine\", \"paul19\",\"tad_t\",\"krishteban\",\"Camus75\",\"Greeeeg\",\n",
    "             \"bonjeu\",\"casual\",\"the.jam\",\"buttchicks\",\"adriyk\",\"ggpudds99\",\n",
    "             \"issaj\",\"Nitro85\",\"badthings\",\"ParisFun\",\"Salbary\",\"thedope\",\n",
    "             \"paulino\",\"kangoo\",\"sweetguy01\",\"12-51\"]\n",
    "res = []\n",
    "\n",
    "for i in usernames:\n",
    "    cmd = 'grep -nr \"{}@\" /media/larkaa/storage/Torrents/BreachCompilation/data/'.format(i)\n",
    "    print(cmd)\n",
    "    temp= ! eval {cmd}\n",
    "    #print(temp)\n",
    "    temp2 = [x.split(\":\")[-2:] for x in temp if i in x]\n",
    "    res.append(temp)"
   ]
  },
  {
   "cell_type": "code",
   "execution_count": null,
   "metadata": {},
   "outputs": [],
   "source": []
  }
 ],
 "metadata": {
  "kernelspec": {
   "display_name": "Python 3",
   "language": "python",
   "name": "python3"
  },
  "language_info": {
   "codemirror_mode": {
    "name": "ipython",
    "version": 3
   },
   "file_extension": ".py",
   "mimetype": "text/x-python",
   "name": "python",
   "nbconvert_exporter": "python",
   "pygments_lexer": "ipython3",
   "version": "3.7.5"
  }
 },
 "nbformat": 4,
 "nbformat_minor": 2
}
